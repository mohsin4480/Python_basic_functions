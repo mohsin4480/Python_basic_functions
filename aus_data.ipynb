{
 "cells": [
  {
   "cell_type": "markdown",
   "metadata": {},
   "source": [
    "# Title\n",
    "## Australia-Political stability and absence of Violence/Terorism(index)\n",
    "# Summary\n",
    "I Picked data from FAOSTAT and performed different functions using different Libraries and in the end i showed a graphical explanation \n",
    "         b/w time(yrs) and Index(pol stability).\n"
   ]
  },
  {
   "cell_type": "code",
   "execution_count": 1,
   "metadata": {},
   "outputs": [],
   "source": [
    "import numpy as np\n",
    "import pandas as pd\n",
    "import matplotlib.pyplot as plt\n",
    "import seaborn as sns"
   ]
  },
  {
   "cell_type": "code",
   "execution_count": 2,
   "metadata": {},
   "outputs": [
    {
     "data": {
      "text/html": [
       "<div>\n",
       "<style scoped>\n",
       "    .dataframe tbody tr th:only-of-type {\n",
       "        vertical-align: middle;\n",
       "    }\n",
       "\n",
       "    .dataframe tbody tr th {\n",
       "        vertical-align: top;\n",
       "    }\n",
       "\n",
       "    .dataframe thead th {\n",
       "        text-align: right;\n",
       "    }\n",
       "</style>\n",
       "<table border=\"1\" class=\"dataframe\">\n",
       "  <thead>\n",
       "    <tr style=\"text-align: right;\">\n",
       "      <th></th>\n",
       "      <th>Domain Code</th>\n",
       "      <th>Domain</th>\n",
       "      <th>Area Code</th>\n",
       "      <th>Area</th>\n",
       "      <th>Element Code</th>\n",
       "      <th>Element</th>\n",
       "      <th>Item Code</th>\n",
       "      <th>Item</th>\n",
       "      <th>Year Code</th>\n",
       "      <th>Year</th>\n",
       "      <th>Unit</th>\n",
       "      <th>Value</th>\n",
       "      <th>Flag</th>\n",
       "      <th>Flag Description</th>\n",
       "      <th>Note</th>\n",
       "    </tr>\n",
       "  </thead>\n",
       "  <tbody>\n",
       "    <tr>\n",
       "      <th>0</th>\n",
       "      <td>FS</td>\n",
       "      <td>Suite of Food Security Indicators</td>\n",
       "      <td>10</td>\n",
       "      <td>Australia</td>\n",
       "      <td>6125</td>\n",
       "      <td>Value</td>\n",
       "      <td>21032</td>\n",
       "      <td>Political stability and absence of violence/te...</td>\n",
       "      <td>2000</td>\n",
       "      <td>2000</td>\n",
       "      <td>index</td>\n",
       "      <td>1.33</td>\n",
       "      <td>X</td>\n",
       "      <td>International reliable sources</td>\n",
       "      <td>NaN</td>\n",
       "    </tr>\n",
       "    <tr>\n",
       "      <th>1</th>\n",
       "      <td>FS</td>\n",
       "      <td>Suite of Food Security Indicators</td>\n",
       "      <td>10</td>\n",
       "      <td>Australia</td>\n",
       "      <td>6125</td>\n",
       "      <td>Value</td>\n",
       "      <td>21032</td>\n",
       "      <td>Political stability and absence of violence/te...</td>\n",
       "      <td>2002</td>\n",
       "      <td>2002</td>\n",
       "      <td>index</td>\n",
       "      <td>1.19</td>\n",
       "      <td>X</td>\n",
       "      <td>International reliable sources</td>\n",
       "      <td>NaN</td>\n",
       "    </tr>\n",
       "    <tr>\n",
       "      <th>2</th>\n",
       "      <td>FS</td>\n",
       "      <td>Suite of Food Security Indicators</td>\n",
       "      <td>10</td>\n",
       "      <td>Australia</td>\n",
       "      <td>6125</td>\n",
       "      <td>Value</td>\n",
       "      <td>21032</td>\n",
       "      <td>Political stability and absence of violence/te...</td>\n",
       "      <td>2003</td>\n",
       "      <td>2003</td>\n",
       "      <td>index</td>\n",
       "      <td>0.88</td>\n",
       "      <td>X</td>\n",
       "      <td>International reliable sources</td>\n",
       "      <td>NaN</td>\n",
       "    </tr>\n",
       "    <tr>\n",
       "      <th>3</th>\n",
       "      <td>FS</td>\n",
       "      <td>Suite of Food Security Indicators</td>\n",
       "      <td>10</td>\n",
       "      <td>Australia</td>\n",
       "      <td>6125</td>\n",
       "      <td>Value</td>\n",
       "      <td>21032</td>\n",
       "      <td>Political stability and absence of violence/te...</td>\n",
       "      <td>2004</td>\n",
       "      <td>2004</td>\n",
       "      <td>index</td>\n",
       "      <td>0.94</td>\n",
       "      <td>X</td>\n",
       "      <td>International reliable sources</td>\n",
       "      <td>NaN</td>\n",
       "    </tr>\n",
       "    <tr>\n",
       "      <th>4</th>\n",
       "      <td>FS</td>\n",
       "      <td>Suite of Food Security Indicators</td>\n",
       "      <td>10</td>\n",
       "      <td>Australia</td>\n",
       "      <td>6125</td>\n",
       "      <td>Value</td>\n",
       "      <td>21032</td>\n",
       "      <td>Political stability and absence of violence/te...</td>\n",
       "      <td>2005</td>\n",
       "      <td>2005</td>\n",
       "      <td>index</td>\n",
       "      <td>0.89</td>\n",
       "      <td>X</td>\n",
       "      <td>International reliable sources</td>\n",
       "      <td>NaN</td>\n",
       "    </tr>\n",
       "    <tr>\n",
       "      <th>5</th>\n",
       "      <td>FS</td>\n",
       "      <td>Suite of Food Security Indicators</td>\n",
       "      <td>10</td>\n",
       "      <td>Australia</td>\n",
       "      <td>6125</td>\n",
       "      <td>Value</td>\n",
       "      <td>21032</td>\n",
       "      <td>Political stability and absence of violence/te...</td>\n",
       "      <td>2006</td>\n",
       "      <td>2006</td>\n",
       "      <td>index</td>\n",
       "      <td>0.94</td>\n",
       "      <td>X</td>\n",
       "      <td>International reliable sources</td>\n",
       "      <td>NaN</td>\n",
       "    </tr>\n",
       "    <tr>\n",
       "      <th>6</th>\n",
       "      <td>FS</td>\n",
       "      <td>Suite of Food Security Indicators</td>\n",
       "      <td>10</td>\n",
       "      <td>Australia</td>\n",
       "      <td>6125</td>\n",
       "      <td>Value</td>\n",
       "      <td>21032</td>\n",
       "      <td>Political stability and absence of violence/te...</td>\n",
       "      <td>2007</td>\n",
       "      <td>2007</td>\n",
       "      <td>index</td>\n",
       "      <td>0.93</td>\n",
       "      <td>X</td>\n",
       "      <td>International reliable sources</td>\n",
       "      <td>NaN</td>\n",
       "    </tr>\n",
       "    <tr>\n",
       "      <th>7</th>\n",
       "      <td>FS</td>\n",
       "      <td>Suite of Food Security Indicators</td>\n",
       "      <td>10</td>\n",
       "      <td>Australia</td>\n",
       "      <td>6125</td>\n",
       "      <td>Value</td>\n",
       "      <td>21032</td>\n",
       "      <td>Political stability and absence of violence/te...</td>\n",
       "      <td>2008</td>\n",
       "      <td>2008</td>\n",
       "      <td>index</td>\n",
       "      <td>0.96</td>\n",
       "      <td>X</td>\n",
       "      <td>International reliable sources</td>\n",
       "      <td>NaN</td>\n",
       "    </tr>\n",
       "    <tr>\n",
       "      <th>8</th>\n",
       "      <td>FS</td>\n",
       "      <td>Suite of Food Security Indicators</td>\n",
       "      <td>10</td>\n",
       "      <td>Australia</td>\n",
       "      <td>6125</td>\n",
       "      <td>Value</td>\n",
       "      <td>21032</td>\n",
       "      <td>Political stability and absence of violence/te...</td>\n",
       "      <td>2009</td>\n",
       "      <td>2009</td>\n",
       "      <td>index</td>\n",
       "      <td>0.86</td>\n",
       "      <td>X</td>\n",
       "      <td>International reliable sources</td>\n",
       "      <td>NaN</td>\n",
       "    </tr>\n",
       "    <tr>\n",
       "      <th>9</th>\n",
       "      <td>FS</td>\n",
       "      <td>Suite of Food Security Indicators</td>\n",
       "      <td>10</td>\n",
       "      <td>Australia</td>\n",
       "      <td>6125</td>\n",
       "      <td>Value</td>\n",
       "      <td>21032</td>\n",
       "      <td>Political stability and absence of violence/te...</td>\n",
       "      <td>2010</td>\n",
       "      <td>2010</td>\n",
       "      <td>index</td>\n",
       "      <td>0.89</td>\n",
       "      <td>X</td>\n",
       "      <td>International reliable sources</td>\n",
       "      <td>NaN</td>\n",
       "    </tr>\n",
       "    <tr>\n",
       "      <th>10</th>\n",
       "      <td>FS</td>\n",
       "      <td>Suite of Food Security Indicators</td>\n",
       "      <td>10</td>\n",
       "      <td>Australia</td>\n",
       "      <td>6125</td>\n",
       "      <td>Value</td>\n",
       "      <td>21032</td>\n",
       "      <td>Political stability and absence of violence/te...</td>\n",
       "      <td>2011</td>\n",
       "      <td>2011</td>\n",
       "      <td>index</td>\n",
       "      <td>0.94</td>\n",
       "      <td>X</td>\n",
       "      <td>International reliable sources</td>\n",
       "      <td>NaN</td>\n",
       "    </tr>\n",
       "    <tr>\n",
       "      <th>11</th>\n",
       "      <td>FS</td>\n",
       "      <td>Suite of Food Security Indicators</td>\n",
       "      <td>10</td>\n",
       "      <td>Australia</td>\n",
       "      <td>6125</td>\n",
       "      <td>Value</td>\n",
       "      <td>21032</td>\n",
       "      <td>Political stability and absence of violence/te...</td>\n",
       "      <td>2012</td>\n",
       "      <td>2012</td>\n",
       "      <td>index</td>\n",
       "      <td>1.00</td>\n",
       "      <td>X</td>\n",
       "      <td>International reliable sources</td>\n",
       "      <td>NaN</td>\n",
       "    </tr>\n",
       "    <tr>\n",
       "      <th>12</th>\n",
       "      <td>FS</td>\n",
       "      <td>Suite of Food Security Indicators</td>\n",
       "      <td>10</td>\n",
       "      <td>Australia</td>\n",
       "      <td>6125</td>\n",
       "      <td>Value</td>\n",
       "      <td>21032</td>\n",
       "      <td>Political stability and absence of violence/te...</td>\n",
       "      <td>2013</td>\n",
       "      <td>2013</td>\n",
       "      <td>index</td>\n",
       "      <td>1.03</td>\n",
       "      <td>X</td>\n",
       "      <td>International reliable sources</td>\n",
       "      <td>NaN</td>\n",
       "    </tr>\n",
       "    <tr>\n",
       "      <th>13</th>\n",
       "      <td>FS</td>\n",
       "      <td>Suite of Food Security Indicators</td>\n",
       "      <td>10</td>\n",
       "      <td>Australia</td>\n",
       "      <td>6125</td>\n",
       "      <td>Value</td>\n",
       "      <td>21032</td>\n",
       "      <td>Political stability and absence of violence/te...</td>\n",
       "      <td>2014</td>\n",
       "      <td>2014</td>\n",
       "      <td>index</td>\n",
       "      <td>1.03</td>\n",
       "      <td>X</td>\n",
       "      <td>International reliable sources</td>\n",
       "      <td>NaN</td>\n",
       "    </tr>\n",
       "    <tr>\n",
       "      <th>14</th>\n",
       "      <td>FS</td>\n",
       "      <td>Suite of Food Security Indicators</td>\n",
       "      <td>10</td>\n",
       "      <td>Australia</td>\n",
       "      <td>6125</td>\n",
       "      <td>Value</td>\n",
       "      <td>21032</td>\n",
       "      <td>Political stability and absence of violence/te...</td>\n",
       "      <td>2015</td>\n",
       "      <td>2015</td>\n",
       "      <td>index</td>\n",
       "      <td>0.88</td>\n",
       "      <td>X</td>\n",
       "      <td>International reliable sources</td>\n",
       "      <td>NaN</td>\n",
       "    </tr>\n",
       "    <tr>\n",
       "      <th>15</th>\n",
       "      <td>FS</td>\n",
       "      <td>Suite of Food Security Indicators</td>\n",
       "      <td>10</td>\n",
       "      <td>Australia</td>\n",
       "      <td>6125</td>\n",
       "      <td>Value</td>\n",
       "      <td>21032</td>\n",
       "      <td>Political stability and absence of violence/te...</td>\n",
       "      <td>2016</td>\n",
       "      <td>2016</td>\n",
       "      <td>index</td>\n",
       "      <td>1.05</td>\n",
       "      <td>X</td>\n",
       "      <td>International reliable sources</td>\n",
       "      <td>NaN</td>\n",
       "    </tr>\n",
       "    <tr>\n",
       "      <th>16</th>\n",
       "      <td>FS</td>\n",
       "      <td>Suite of Food Security Indicators</td>\n",
       "      <td>10</td>\n",
       "      <td>Australia</td>\n",
       "      <td>6125</td>\n",
       "      <td>Value</td>\n",
       "      <td>21032</td>\n",
       "      <td>Political stability and absence of violence/te...</td>\n",
       "      <td>2017</td>\n",
       "      <td>2017</td>\n",
       "      <td>index</td>\n",
       "      <td>0.89</td>\n",
       "      <td>X</td>\n",
       "      <td>International reliable sources</td>\n",
       "      <td>NaN</td>\n",
       "    </tr>\n",
       "    <tr>\n",
       "      <th>17</th>\n",
       "      <td>FS</td>\n",
       "      <td>Suite of Food Security Indicators</td>\n",
       "      <td>10</td>\n",
       "      <td>Australia</td>\n",
       "      <td>6125</td>\n",
       "      <td>Value</td>\n",
       "      <td>21032</td>\n",
       "      <td>Political stability and absence of violence/te...</td>\n",
       "      <td>2018</td>\n",
       "      <td>2018</td>\n",
       "      <td>index</td>\n",
       "      <td>1.00</td>\n",
       "      <td>X</td>\n",
       "      <td>International reliable sources</td>\n",
       "      <td>NaN</td>\n",
       "    </tr>\n",
       "    <tr>\n",
       "      <th>18</th>\n",
       "      <td>FS</td>\n",
       "      <td>Suite of Food Security Indicators</td>\n",
       "      <td>10</td>\n",
       "      <td>Australia</td>\n",
       "      <td>6125</td>\n",
       "      <td>Value</td>\n",
       "      <td>21032</td>\n",
       "      <td>Political stability and absence of violence/te...</td>\n",
       "      <td>2019</td>\n",
       "      <td>2019</td>\n",
       "      <td>index</td>\n",
       "      <td>1.09</td>\n",
       "      <td>X</td>\n",
       "      <td>International reliable sources</td>\n",
       "      <td>NaN</td>\n",
       "    </tr>\n",
       "  </tbody>\n",
       "</table>\n",
       "</div>"
      ],
      "text/plain": [
       "   Domain Code                             Domain  Area Code       Area  \\\n",
       "0           FS  Suite of Food Security Indicators         10  Australia   \n",
       "1           FS  Suite of Food Security Indicators         10  Australia   \n",
       "2           FS  Suite of Food Security Indicators         10  Australia   \n",
       "3           FS  Suite of Food Security Indicators         10  Australia   \n",
       "4           FS  Suite of Food Security Indicators         10  Australia   \n",
       "5           FS  Suite of Food Security Indicators         10  Australia   \n",
       "6           FS  Suite of Food Security Indicators         10  Australia   \n",
       "7           FS  Suite of Food Security Indicators         10  Australia   \n",
       "8           FS  Suite of Food Security Indicators         10  Australia   \n",
       "9           FS  Suite of Food Security Indicators         10  Australia   \n",
       "10          FS  Suite of Food Security Indicators         10  Australia   \n",
       "11          FS  Suite of Food Security Indicators         10  Australia   \n",
       "12          FS  Suite of Food Security Indicators         10  Australia   \n",
       "13          FS  Suite of Food Security Indicators         10  Australia   \n",
       "14          FS  Suite of Food Security Indicators         10  Australia   \n",
       "15          FS  Suite of Food Security Indicators         10  Australia   \n",
       "16          FS  Suite of Food Security Indicators         10  Australia   \n",
       "17          FS  Suite of Food Security Indicators         10  Australia   \n",
       "18          FS  Suite of Food Security Indicators         10  Australia   \n",
       "\n",
       "    Element Code Element  Item Code  \\\n",
       "0           6125   Value      21032   \n",
       "1           6125   Value      21032   \n",
       "2           6125   Value      21032   \n",
       "3           6125   Value      21032   \n",
       "4           6125   Value      21032   \n",
       "5           6125   Value      21032   \n",
       "6           6125   Value      21032   \n",
       "7           6125   Value      21032   \n",
       "8           6125   Value      21032   \n",
       "9           6125   Value      21032   \n",
       "10          6125   Value      21032   \n",
       "11          6125   Value      21032   \n",
       "12          6125   Value      21032   \n",
       "13          6125   Value      21032   \n",
       "14          6125   Value      21032   \n",
       "15          6125   Value      21032   \n",
       "16          6125   Value      21032   \n",
       "17          6125   Value      21032   \n",
       "18          6125   Value      21032   \n",
       "\n",
       "                                                 Item  Year Code  Year   Unit  \\\n",
       "0   Political stability and absence of violence/te...       2000  2000  index   \n",
       "1   Political stability and absence of violence/te...       2002  2002  index   \n",
       "2   Political stability and absence of violence/te...       2003  2003  index   \n",
       "3   Political stability and absence of violence/te...       2004  2004  index   \n",
       "4   Political stability and absence of violence/te...       2005  2005  index   \n",
       "5   Political stability and absence of violence/te...       2006  2006  index   \n",
       "6   Political stability and absence of violence/te...       2007  2007  index   \n",
       "7   Political stability and absence of violence/te...       2008  2008  index   \n",
       "8   Political stability and absence of violence/te...       2009  2009  index   \n",
       "9   Political stability and absence of violence/te...       2010  2010  index   \n",
       "10  Political stability and absence of violence/te...       2011  2011  index   \n",
       "11  Political stability and absence of violence/te...       2012  2012  index   \n",
       "12  Political stability and absence of violence/te...       2013  2013  index   \n",
       "13  Political stability and absence of violence/te...       2014  2014  index   \n",
       "14  Political stability and absence of violence/te...       2015  2015  index   \n",
       "15  Political stability and absence of violence/te...       2016  2016  index   \n",
       "16  Political stability and absence of violence/te...       2017  2017  index   \n",
       "17  Political stability and absence of violence/te...       2018  2018  index   \n",
       "18  Political stability and absence of violence/te...       2019  2019  index   \n",
       "\n",
       "    Value Flag                Flag Description  Note  \n",
       "0    1.33    X  International reliable sources   NaN  \n",
       "1    1.19    X  International reliable sources   NaN  \n",
       "2    0.88    X  International reliable sources   NaN  \n",
       "3    0.94    X  International reliable sources   NaN  \n",
       "4    0.89    X  International reliable sources   NaN  \n",
       "5    0.94    X  International reliable sources   NaN  \n",
       "6    0.93    X  International reliable sources   NaN  \n",
       "7    0.96    X  International reliable sources   NaN  \n",
       "8    0.86    X  International reliable sources   NaN  \n",
       "9    0.89    X  International reliable sources   NaN  \n",
       "10   0.94    X  International reliable sources   NaN  \n",
       "11   1.00    X  International reliable sources   NaN  \n",
       "12   1.03    X  International reliable sources   NaN  \n",
       "13   1.03    X  International reliable sources   NaN  \n",
       "14   0.88    X  International reliable sources   NaN  \n",
       "15   1.05    X  International reliable sources   NaN  \n",
       "16   0.89    X  International reliable sources   NaN  \n",
       "17   1.00    X  International reliable sources   NaN  \n",
       "18   1.09    X  International reliable sources   NaN  "
      ]
     },
     "execution_count": 2,
     "metadata": {},
     "output_type": "execute_result"
    }
   ],
   "source": [
    "ausdata = pd.read_csv(\"FAOSTAT_data_2-28-2022.csv\")\n",
    "ausdata"
   ]
  },
  {
   "cell_type": "code",
   "execution_count": 3,
   "metadata": {},
   "outputs": [
    {
     "data": {
      "text/html": [
       "<div>\n",
       "<style scoped>\n",
       "    .dataframe tbody tr th:only-of-type {\n",
       "        vertical-align: middle;\n",
       "    }\n",
       "\n",
       "    .dataframe tbody tr th {\n",
       "        vertical-align: top;\n",
       "    }\n",
       "\n",
       "    .dataframe thead th {\n",
       "        text-align: right;\n",
       "    }\n",
       "</style>\n",
       "<table border=\"1\" class=\"dataframe\">\n",
       "  <thead>\n",
       "    <tr style=\"text-align: right;\">\n",
       "      <th></th>\n",
       "      <th>Domain Code</th>\n",
       "      <th>Domain</th>\n",
       "      <th>Area Code</th>\n",
       "      <th>Area</th>\n",
       "      <th>Element Code</th>\n",
       "      <th>Element</th>\n",
       "      <th>Item Code</th>\n",
       "      <th>Item</th>\n",
       "      <th>Year Code</th>\n",
       "      <th>Year</th>\n",
       "      <th>Unit</th>\n",
       "      <th>Value</th>\n",
       "      <th>Flag</th>\n",
       "      <th>Flag Description</th>\n",
       "      <th>Note</th>\n",
       "    </tr>\n",
       "  </thead>\n",
       "  <tbody>\n",
       "    <tr>\n",
       "      <th>0</th>\n",
       "      <td>FS</td>\n",
       "      <td>Suite of Food Security Indicators</td>\n",
       "      <td>10</td>\n",
       "      <td>Australia</td>\n",
       "      <td>6125</td>\n",
       "      <td>Value</td>\n",
       "      <td>21032</td>\n",
       "      <td>Political stability and absence of violence/te...</td>\n",
       "      <td>2000</td>\n",
       "      <td>2000</td>\n",
       "      <td>index</td>\n",
       "      <td>1.33</td>\n",
       "      <td>X</td>\n",
       "      <td>International reliable sources</td>\n",
       "      <td>NaN</td>\n",
       "    </tr>\n",
       "    <tr>\n",
       "      <th>1</th>\n",
       "      <td>FS</td>\n",
       "      <td>Suite of Food Security Indicators</td>\n",
       "      <td>10</td>\n",
       "      <td>Australia</td>\n",
       "      <td>6125</td>\n",
       "      <td>Value</td>\n",
       "      <td>21032</td>\n",
       "      <td>Political stability and absence of violence/te...</td>\n",
       "      <td>2002</td>\n",
       "      <td>2002</td>\n",
       "      <td>index</td>\n",
       "      <td>1.19</td>\n",
       "      <td>X</td>\n",
       "      <td>International reliable sources</td>\n",
       "      <td>NaN</td>\n",
       "    </tr>\n",
       "    <tr>\n",
       "      <th>2</th>\n",
       "      <td>FS</td>\n",
       "      <td>Suite of Food Security Indicators</td>\n",
       "      <td>10</td>\n",
       "      <td>Australia</td>\n",
       "      <td>6125</td>\n",
       "      <td>Value</td>\n",
       "      <td>21032</td>\n",
       "      <td>Political stability and absence of violence/te...</td>\n",
       "      <td>2003</td>\n",
       "      <td>2003</td>\n",
       "      <td>index</td>\n",
       "      <td>0.88</td>\n",
       "      <td>X</td>\n",
       "      <td>International reliable sources</td>\n",
       "      <td>NaN</td>\n",
       "    </tr>\n",
       "    <tr>\n",
       "      <th>3</th>\n",
       "      <td>FS</td>\n",
       "      <td>Suite of Food Security Indicators</td>\n",
       "      <td>10</td>\n",
       "      <td>Australia</td>\n",
       "      <td>6125</td>\n",
       "      <td>Value</td>\n",
       "      <td>21032</td>\n",
       "      <td>Political stability and absence of violence/te...</td>\n",
       "      <td>2004</td>\n",
       "      <td>2004</td>\n",
       "      <td>index</td>\n",
       "      <td>0.94</td>\n",
       "      <td>X</td>\n",
       "      <td>International reliable sources</td>\n",
       "      <td>NaN</td>\n",
       "    </tr>\n",
       "    <tr>\n",
       "      <th>4</th>\n",
       "      <td>FS</td>\n",
       "      <td>Suite of Food Security Indicators</td>\n",
       "      <td>10</td>\n",
       "      <td>Australia</td>\n",
       "      <td>6125</td>\n",
       "      <td>Value</td>\n",
       "      <td>21032</td>\n",
       "      <td>Political stability and absence of violence/te...</td>\n",
       "      <td>2005</td>\n",
       "      <td>2005</td>\n",
       "      <td>index</td>\n",
       "      <td>0.89</td>\n",
       "      <td>X</td>\n",
       "      <td>International reliable sources</td>\n",
       "      <td>NaN</td>\n",
       "    </tr>\n",
       "  </tbody>\n",
       "</table>\n",
       "</div>"
      ],
      "text/plain": [
       "  Domain Code                             Domain  Area Code       Area  \\\n",
       "0          FS  Suite of Food Security Indicators         10  Australia   \n",
       "1          FS  Suite of Food Security Indicators         10  Australia   \n",
       "2          FS  Suite of Food Security Indicators         10  Australia   \n",
       "3          FS  Suite of Food Security Indicators         10  Australia   \n",
       "4          FS  Suite of Food Security Indicators         10  Australia   \n",
       "\n",
       "   Element Code Element  Item Code  \\\n",
       "0          6125   Value      21032   \n",
       "1          6125   Value      21032   \n",
       "2          6125   Value      21032   \n",
       "3          6125   Value      21032   \n",
       "4          6125   Value      21032   \n",
       "\n",
       "                                                Item  Year Code  Year   Unit  \\\n",
       "0  Political stability and absence of violence/te...       2000  2000  index   \n",
       "1  Political stability and absence of violence/te...       2002  2002  index   \n",
       "2  Political stability and absence of violence/te...       2003  2003  index   \n",
       "3  Political stability and absence of violence/te...       2004  2004  index   \n",
       "4  Political stability and absence of violence/te...       2005  2005  index   \n",
       "\n",
       "   Value Flag                Flag Description  Note  \n",
       "0   1.33    X  International reliable sources   NaN  \n",
       "1   1.19    X  International reliable sources   NaN  \n",
       "2   0.88    X  International reliable sources   NaN  \n",
       "3   0.94    X  International reliable sources   NaN  \n",
       "4   0.89    X  International reliable sources   NaN  "
      ]
     },
     "execution_count": 3,
     "metadata": {},
     "output_type": "execute_result"
    }
   ],
   "source": [
    "ausdata.head(5)"
   ]
  },
  {
   "cell_type": "code",
   "execution_count": 4,
   "metadata": {},
   "outputs": [
    {
     "data": {
      "text/html": [
       "<div>\n",
       "<style scoped>\n",
       "    .dataframe tbody tr th:only-of-type {\n",
       "        vertical-align: middle;\n",
       "    }\n",
       "\n",
       "    .dataframe tbody tr th {\n",
       "        vertical-align: top;\n",
       "    }\n",
       "\n",
       "    .dataframe thead th {\n",
       "        text-align: right;\n",
       "    }\n",
       "</style>\n",
       "<table border=\"1\" class=\"dataframe\">\n",
       "  <thead>\n",
       "    <tr style=\"text-align: right;\">\n",
       "      <th></th>\n",
       "      <th>Domain Code</th>\n",
       "      <th>Domain</th>\n",
       "      <th>Area Code</th>\n",
       "      <th>Area</th>\n",
       "      <th>Element Code</th>\n",
       "      <th>Element</th>\n",
       "      <th>Item Code</th>\n",
       "      <th>Item</th>\n",
       "      <th>Year</th>\n",
       "      <th>Unit</th>\n",
       "      <th>Value</th>\n",
       "      <th>Flag</th>\n",
       "      <th>Flag Description</th>\n",
       "    </tr>\n",
       "  </thead>\n",
       "  <tbody>\n",
       "    <tr>\n",
       "      <th>0</th>\n",
       "      <td>FS</td>\n",
       "      <td>Suite of Food Security Indicators</td>\n",
       "      <td>10</td>\n",
       "      <td>Australia</td>\n",
       "      <td>6125</td>\n",
       "      <td>Value</td>\n",
       "      <td>21032</td>\n",
       "      <td>Political stability and absence of violence/te...</td>\n",
       "      <td>2000</td>\n",
       "      <td>index</td>\n",
       "      <td>1.33</td>\n",
       "      <td>X</td>\n",
       "      <td>International reliable sources</td>\n",
       "    </tr>\n",
       "    <tr>\n",
       "      <th>1</th>\n",
       "      <td>FS</td>\n",
       "      <td>Suite of Food Security Indicators</td>\n",
       "      <td>10</td>\n",
       "      <td>Australia</td>\n",
       "      <td>6125</td>\n",
       "      <td>Value</td>\n",
       "      <td>21032</td>\n",
       "      <td>Political stability and absence of violence/te...</td>\n",
       "      <td>2002</td>\n",
       "      <td>index</td>\n",
       "      <td>1.19</td>\n",
       "      <td>X</td>\n",
       "      <td>International reliable sources</td>\n",
       "    </tr>\n",
       "    <tr>\n",
       "      <th>2</th>\n",
       "      <td>FS</td>\n",
       "      <td>Suite of Food Security Indicators</td>\n",
       "      <td>10</td>\n",
       "      <td>Australia</td>\n",
       "      <td>6125</td>\n",
       "      <td>Value</td>\n",
       "      <td>21032</td>\n",
       "      <td>Political stability and absence of violence/te...</td>\n",
       "      <td>2003</td>\n",
       "      <td>index</td>\n",
       "      <td>0.88</td>\n",
       "      <td>X</td>\n",
       "      <td>International reliable sources</td>\n",
       "    </tr>\n",
       "    <tr>\n",
       "      <th>3</th>\n",
       "      <td>FS</td>\n",
       "      <td>Suite of Food Security Indicators</td>\n",
       "      <td>10</td>\n",
       "      <td>Australia</td>\n",
       "      <td>6125</td>\n",
       "      <td>Value</td>\n",
       "      <td>21032</td>\n",
       "      <td>Political stability and absence of violence/te...</td>\n",
       "      <td>2004</td>\n",
       "      <td>index</td>\n",
       "      <td>0.94</td>\n",
       "      <td>X</td>\n",
       "      <td>International reliable sources</td>\n",
       "    </tr>\n",
       "    <tr>\n",
       "      <th>4</th>\n",
       "      <td>FS</td>\n",
       "      <td>Suite of Food Security Indicators</td>\n",
       "      <td>10</td>\n",
       "      <td>Australia</td>\n",
       "      <td>6125</td>\n",
       "      <td>Value</td>\n",
       "      <td>21032</td>\n",
       "      <td>Political stability and absence of violence/te...</td>\n",
       "      <td>2005</td>\n",
       "      <td>index</td>\n",
       "      <td>0.89</td>\n",
       "      <td>X</td>\n",
       "      <td>International reliable sources</td>\n",
       "    </tr>\n",
       "    <tr>\n",
       "      <th>5</th>\n",
       "      <td>FS</td>\n",
       "      <td>Suite of Food Security Indicators</td>\n",
       "      <td>10</td>\n",
       "      <td>Australia</td>\n",
       "      <td>6125</td>\n",
       "      <td>Value</td>\n",
       "      <td>21032</td>\n",
       "      <td>Political stability and absence of violence/te...</td>\n",
       "      <td>2006</td>\n",
       "      <td>index</td>\n",
       "      <td>0.94</td>\n",
       "      <td>X</td>\n",
       "      <td>International reliable sources</td>\n",
       "    </tr>\n",
       "    <tr>\n",
       "      <th>6</th>\n",
       "      <td>FS</td>\n",
       "      <td>Suite of Food Security Indicators</td>\n",
       "      <td>10</td>\n",
       "      <td>Australia</td>\n",
       "      <td>6125</td>\n",
       "      <td>Value</td>\n",
       "      <td>21032</td>\n",
       "      <td>Political stability and absence of violence/te...</td>\n",
       "      <td>2007</td>\n",
       "      <td>index</td>\n",
       "      <td>0.93</td>\n",
       "      <td>X</td>\n",
       "      <td>International reliable sources</td>\n",
       "    </tr>\n",
       "    <tr>\n",
       "      <th>7</th>\n",
       "      <td>FS</td>\n",
       "      <td>Suite of Food Security Indicators</td>\n",
       "      <td>10</td>\n",
       "      <td>Australia</td>\n",
       "      <td>6125</td>\n",
       "      <td>Value</td>\n",
       "      <td>21032</td>\n",
       "      <td>Political stability and absence of violence/te...</td>\n",
       "      <td>2008</td>\n",
       "      <td>index</td>\n",
       "      <td>0.96</td>\n",
       "      <td>X</td>\n",
       "      <td>International reliable sources</td>\n",
       "    </tr>\n",
       "    <tr>\n",
       "      <th>8</th>\n",
       "      <td>FS</td>\n",
       "      <td>Suite of Food Security Indicators</td>\n",
       "      <td>10</td>\n",
       "      <td>Australia</td>\n",
       "      <td>6125</td>\n",
       "      <td>Value</td>\n",
       "      <td>21032</td>\n",
       "      <td>Political stability and absence of violence/te...</td>\n",
       "      <td>2009</td>\n",
       "      <td>index</td>\n",
       "      <td>0.86</td>\n",
       "      <td>X</td>\n",
       "      <td>International reliable sources</td>\n",
       "    </tr>\n",
       "    <tr>\n",
       "      <th>9</th>\n",
       "      <td>FS</td>\n",
       "      <td>Suite of Food Security Indicators</td>\n",
       "      <td>10</td>\n",
       "      <td>Australia</td>\n",
       "      <td>6125</td>\n",
       "      <td>Value</td>\n",
       "      <td>21032</td>\n",
       "      <td>Political stability and absence of violence/te...</td>\n",
       "      <td>2010</td>\n",
       "      <td>index</td>\n",
       "      <td>0.89</td>\n",
       "      <td>X</td>\n",
       "      <td>International reliable sources</td>\n",
       "    </tr>\n",
       "    <tr>\n",
       "      <th>10</th>\n",
       "      <td>FS</td>\n",
       "      <td>Suite of Food Security Indicators</td>\n",
       "      <td>10</td>\n",
       "      <td>Australia</td>\n",
       "      <td>6125</td>\n",
       "      <td>Value</td>\n",
       "      <td>21032</td>\n",
       "      <td>Political stability and absence of violence/te...</td>\n",
       "      <td>2011</td>\n",
       "      <td>index</td>\n",
       "      <td>0.94</td>\n",
       "      <td>X</td>\n",
       "      <td>International reliable sources</td>\n",
       "    </tr>\n",
       "    <tr>\n",
       "      <th>11</th>\n",
       "      <td>FS</td>\n",
       "      <td>Suite of Food Security Indicators</td>\n",
       "      <td>10</td>\n",
       "      <td>Australia</td>\n",
       "      <td>6125</td>\n",
       "      <td>Value</td>\n",
       "      <td>21032</td>\n",
       "      <td>Political stability and absence of violence/te...</td>\n",
       "      <td>2012</td>\n",
       "      <td>index</td>\n",
       "      <td>1.00</td>\n",
       "      <td>X</td>\n",
       "      <td>International reliable sources</td>\n",
       "    </tr>\n",
       "    <tr>\n",
       "      <th>12</th>\n",
       "      <td>FS</td>\n",
       "      <td>Suite of Food Security Indicators</td>\n",
       "      <td>10</td>\n",
       "      <td>Australia</td>\n",
       "      <td>6125</td>\n",
       "      <td>Value</td>\n",
       "      <td>21032</td>\n",
       "      <td>Political stability and absence of violence/te...</td>\n",
       "      <td>2013</td>\n",
       "      <td>index</td>\n",
       "      <td>1.03</td>\n",
       "      <td>X</td>\n",
       "      <td>International reliable sources</td>\n",
       "    </tr>\n",
       "    <tr>\n",
       "      <th>13</th>\n",
       "      <td>FS</td>\n",
       "      <td>Suite of Food Security Indicators</td>\n",
       "      <td>10</td>\n",
       "      <td>Australia</td>\n",
       "      <td>6125</td>\n",
       "      <td>Value</td>\n",
       "      <td>21032</td>\n",
       "      <td>Political stability and absence of violence/te...</td>\n",
       "      <td>2014</td>\n",
       "      <td>index</td>\n",
       "      <td>1.03</td>\n",
       "      <td>X</td>\n",
       "      <td>International reliable sources</td>\n",
       "    </tr>\n",
       "    <tr>\n",
       "      <th>14</th>\n",
       "      <td>FS</td>\n",
       "      <td>Suite of Food Security Indicators</td>\n",
       "      <td>10</td>\n",
       "      <td>Australia</td>\n",
       "      <td>6125</td>\n",
       "      <td>Value</td>\n",
       "      <td>21032</td>\n",
       "      <td>Political stability and absence of violence/te...</td>\n",
       "      <td>2015</td>\n",
       "      <td>index</td>\n",
       "      <td>0.88</td>\n",
       "      <td>X</td>\n",
       "      <td>International reliable sources</td>\n",
       "    </tr>\n",
       "    <tr>\n",
       "      <th>15</th>\n",
       "      <td>FS</td>\n",
       "      <td>Suite of Food Security Indicators</td>\n",
       "      <td>10</td>\n",
       "      <td>Australia</td>\n",
       "      <td>6125</td>\n",
       "      <td>Value</td>\n",
       "      <td>21032</td>\n",
       "      <td>Political stability and absence of violence/te...</td>\n",
       "      <td>2016</td>\n",
       "      <td>index</td>\n",
       "      <td>1.05</td>\n",
       "      <td>X</td>\n",
       "      <td>International reliable sources</td>\n",
       "    </tr>\n",
       "    <tr>\n",
       "      <th>16</th>\n",
       "      <td>FS</td>\n",
       "      <td>Suite of Food Security Indicators</td>\n",
       "      <td>10</td>\n",
       "      <td>Australia</td>\n",
       "      <td>6125</td>\n",
       "      <td>Value</td>\n",
       "      <td>21032</td>\n",
       "      <td>Political stability and absence of violence/te...</td>\n",
       "      <td>2017</td>\n",
       "      <td>index</td>\n",
       "      <td>0.89</td>\n",
       "      <td>X</td>\n",
       "      <td>International reliable sources</td>\n",
       "    </tr>\n",
       "    <tr>\n",
       "      <th>17</th>\n",
       "      <td>FS</td>\n",
       "      <td>Suite of Food Security Indicators</td>\n",
       "      <td>10</td>\n",
       "      <td>Australia</td>\n",
       "      <td>6125</td>\n",
       "      <td>Value</td>\n",
       "      <td>21032</td>\n",
       "      <td>Political stability and absence of violence/te...</td>\n",
       "      <td>2018</td>\n",
       "      <td>index</td>\n",
       "      <td>1.00</td>\n",
       "      <td>X</td>\n",
       "      <td>International reliable sources</td>\n",
       "    </tr>\n",
       "    <tr>\n",
       "      <th>18</th>\n",
       "      <td>FS</td>\n",
       "      <td>Suite of Food Security Indicators</td>\n",
       "      <td>10</td>\n",
       "      <td>Australia</td>\n",
       "      <td>6125</td>\n",
       "      <td>Value</td>\n",
       "      <td>21032</td>\n",
       "      <td>Political stability and absence of violence/te...</td>\n",
       "      <td>2019</td>\n",
       "      <td>index</td>\n",
       "      <td>1.09</td>\n",
       "      <td>X</td>\n",
       "      <td>International reliable sources</td>\n",
       "    </tr>\n",
       "  </tbody>\n",
       "</table>\n",
       "</div>"
      ],
      "text/plain": [
       "   Domain Code                             Domain  Area Code       Area  \\\n",
       "0           FS  Suite of Food Security Indicators         10  Australia   \n",
       "1           FS  Suite of Food Security Indicators         10  Australia   \n",
       "2           FS  Suite of Food Security Indicators         10  Australia   \n",
       "3           FS  Suite of Food Security Indicators         10  Australia   \n",
       "4           FS  Suite of Food Security Indicators         10  Australia   \n",
       "5           FS  Suite of Food Security Indicators         10  Australia   \n",
       "6           FS  Suite of Food Security Indicators         10  Australia   \n",
       "7           FS  Suite of Food Security Indicators         10  Australia   \n",
       "8           FS  Suite of Food Security Indicators         10  Australia   \n",
       "9           FS  Suite of Food Security Indicators         10  Australia   \n",
       "10          FS  Suite of Food Security Indicators         10  Australia   \n",
       "11          FS  Suite of Food Security Indicators         10  Australia   \n",
       "12          FS  Suite of Food Security Indicators         10  Australia   \n",
       "13          FS  Suite of Food Security Indicators         10  Australia   \n",
       "14          FS  Suite of Food Security Indicators         10  Australia   \n",
       "15          FS  Suite of Food Security Indicators         10  Australia   \n",
       "16          FS  Suite of Food Security Indicators         10  Australia   \n",
       "17          FS  Suite of Food Security Indicators         10  Australia   \n",
       "18          FS  Suite of Food Security Indicators         10  Australia   \n",
       "\n",
       "    Element Code Element  Item Code  \\\n",
       "0           6125   Value      21032   \n",
       "1           6125   Value      21032   \n",
       "2           6125   Value      21032   \n",
       "3           6125   Value      21032   \n",
       "4           6125   Value      21032   \n",
       "5           6125   Value      21032   \n",
       "6           6125   Value      21032   \n",
       "7           6125   Value      21032   \n",
       "8           6125   Value      21032   \n",
       "9           6125   Value      21032   \n",
       "10          6125   Value      21032   \n",
       "11          6125   Value      21032   \n",
       "12          6125   Value      21032   \n",
       "13          6125   Value      21032   \n",
       "14          6125   Value      21032   \n",
       "15          6125   Value      21032   \n",
       "16          6125   Value      21032   \n",
       "17          6125   Value      21032   \n",
       "18          6125   Value      21032   \n",
       "\n",
       "                                                 Item  Year   Unit  Value  \\\n",
       "0   Political stability and absence of violence/te...  2000  index   1.33   \n",
       "1   Political stability and absence of violence/te...  2002  index   1.19   \n",
       "2   Political stability and absence of violence/te...  2003  index   0.88   \n",
       "3   Political stability and absence of violence/te...  2004  index   0.94   \n",
       "4   Political stability and absence of violence/te...  2005  index   0.89   \n",
       "5   Political stability and absence of violence/te...  2006  index   0.94   \n",
       "6   Political stability and absence of violence/te...  2007  index   0.93   \n",
       "7   Political stability and absence of violence/te...  2008  index   0.96   \n",
       "8   Political stability and absence of violence/te...  2009  index   0.86   \n",
       "9   Political stability and absence of violence/te...  2010  index   0.89   \n",
       "10  Political stability and absence of violence/te...  2011  index   0.94   \n",
       "11  Political stability and absence of violence/te...  2012  index   1.00   \n",
       "12  Political stability and absence of violence/te...  2013  index   1.03   \n",
       "13  Political stability and absence of violence/te...  2014  index   1.03   \n",
       "14  Political stability and absence of violence/te...  2015  index   0.88   \n",
       "15  Political stability and absence of violence/te...  2016  index   1.05   \n",
       "16  Political stability and absence of violence/te...  2017  index   0.89   \n",
       "17  Political stability and absence of violence/te...  2018  index   1.00   \n",
       "18  Political stability and absence of violence/te...  2019  index   1.09   \n",
       "\n",
       "   Flag                Flag Description  \n",
       "0     X  International reliable sources  \n",
       "1     X  International reliable sources  \n",
       "2     X  International reliable sources  \n",
       "3     X  International reliable sources  \n",
       "4     X  International reliable sources  \n",
       "5     X  International reliable sources  \n",
       "6     X  International reliable sources  \n",
       "7     X  International reliable sources  \n",
       "8     X  International reliable sources  \n",
       "9     X  International reliable sources  \n",
       "10    X  International reliable sources  \n",
       "11    X  International reliable sources  \n",
       "12    X  International reliable sources  \n",
       "13    X  International reliable sources  \n",
       "14    X  International reliable sources  \n",
       "15    X  International reliable sources  \n",
       "16    X  International reliable sources  \n",
       "17    X  International reliable sources  \n",
       "18    X  International reliable sources  "
      ]
     },
     "execution_count": 4,
     "metadata": {},
     "output_type": "execute_result"
    }
   ],
   "source": [
    "#Dropping few columns and make a new dataset \n",
    "# note: rows= 0-axis  , Columns= 1-axis\n",
    "ausdata.drop([\"Note\",\"Year Code\"], axis=1)"
   ]
  },
  {
   "cell_type": "code",
   "execution_count": 5,
   "metadata": {},
   "outputs": [
    {
     "name": "stderr",
     "output_type": "stream",
     "text": [
      "C:\\Users\\MOHSIN~1.DES\\AppData\\Local\\Temp/ipykernel_10044/1278449038.py:1: FutureWarning: Dropping of nuisance columns in DataFrame reductions (with 'numeric_only=None') is deprecated; in a future version this will raise TypeError.  Select only valid columns before calling the reduction.\n",
      "  ausdata.mean()\n"
     ]
    },
    {
     "data": {
      "text/plain": [
       "Area Code          10.000000\n",
       "Element Code     6125.000000\n",
       "Item Code       21032.000000\n",
       "Year Code        2009.947368\n",
       "Year             2009.947368\n",
       "Value               0.985263\n",
       "Note                     NaN\n",
       "dtype: float64"
      ]
     },
     "execution_count": 5,
     "metadata": {},
     "output_type": "execute_result"
    }
   ],
   "source": [
    "ausdata.mean()"
   ]
  },
  {
   "cell_type": "code",
   "execution_count": 6,
   "metadata": {},
   "outputs": [
    {
     "data": {
      "text/html": [
       "<div>\n",
       "<style scoped>\n",
       "    .dataframe tbody tr th:only-of-type {\n",
       "        vertical-align: middle;\n",
       "    }\n",
       "\n",
       "    .dataframe tbody tr th {\n",
       "        vertical-align: top;\n",
       "    }\n",
       "\n",
       "    .dataframe thead th {\n",
       "        text-align: right;\n",
       "    }\n",
       "</style>\n",
       "<table border=\"1\" class=\"dataframe\">\n",
       "  <thead>\n",
       "    <tr style=\"text-align: right;\">\n",
       "      <th></th>\n",
       "      <th></th>\n",
       "      <th>Area Code</th>\n",
       "      <th>Element Code</th>\n",
       "      <th>Item Code</th>\n",
       "      <th>Year Code</th>\n",
       "      <th>Note</th>\n",
       "    </tr>\n",
       "    <tr>\n",
       "      <th>Year</th>\n",
       "      <th>Value</th>\n",
       "      <th></th>\n",
       "      <th></th>\n",
       "      <th></th>\n",
       "      <th></th>\n",
       "      <th></th>\n",
       "    </tr>\n",
       "  </thead>\n",
       "  <tbody>\n",
       "    <tr>\n",
       "      <th>2000</th>\n",
       "      <th>1.33</th>\n",
       "      <td>10.0</td>\n",
       "      <td>6125.0</td>\n",
       "      <td>21032.0</td>\n",
       "      <td>2000.0</td>\n",
       "      <td>NaN</td>\n",
       "    </tr>\n",
       "    <tr>\n",
       "      <th>2002</th>\n",
       "      <th>1.19</th>\n",
       "      <td>10.0</td>\n",
       "      <td>6125.0</td>\n",
       "      <td>21032.0</td>\n",
       "      <td>2002.0</td>\n",
       "      <td>NaN</td>\n",
       "    </tr>\n",
       "    <tr>\n",
       "      <th>2003</th>\n",
       "      <th>0.88</th>\n",
       "      <td>10.0</td>\n",
       "      <td>6125.0</td>\n",
       "      <td>21032.0</td>\n",
       "      <td>2003.0</td>\n",
       "      <td>NaN</td>\n",
       "    </tr>\n",
       "    <tr>\n",
       "      <th>2004</th>\n",
       "      <th>0.94</th>\n",
       "      <td>10.0</td>\n",
       "      <td>6125.0</td>\n",
       "      <td>21032.0</td>\n",
       "      <td>2004.0</td>\n",
       "      <td>NaN</td>\n",
       "    </tr>\n",
       "    <tr>\n",
       "      <th>2005</th>\n",
       "      <th>0.89</th>\n",
       "      <td>10.0</td>\n",
       "      <td>6125.0</td>\n",
       "      <td>21032.0</td>\n",
       "      <td>2005.0</td>\n",
       "      <td>NaN</td>\n",
       "    </tr>\n",
       "    <tr>\n",
       "      <th>2006</th>\n",
       "      <th>0.94</th>\n",
       "      <td>10.0</td>\n",
       "      <td>6125.0</td>\n",
       "      <td>21032.0</td>\n",
       "      <td>2006.0</td>\n",
       "      <td>NaN</td>\n",
       "    </tr>\n",
       "    <tr>\n",
       "      <th>2007</th>\n",
       "      <th>0.93</th>\n",
       "      <td>10.0</td>\n",
       "      <td>6125.0</td>\n",
       "      <td>21032.0</td>\n",
       "      <td>2007.0</td>\n",
       "      <td>NaN</td>\n",
       "    </tr>\n",
       "    <tr>\n",
       "      <th>2008</th>\n",
       "      <th>0.96</th>\n",
       "      <td>10.0</td>\n",
       "      <td>6125.0</td>\n",
       "      <td>21032.0</td>\n",
       "      <td>2008.0</td>\n",
       "      <td>NaN</td>\n",
       "    </tr>\n",
       "    <tr>\n",
       "      <th>2009</th>\n",
       "      <th>0.86</th>\n",
       "      <td>10.0</td>\n",
       "      <td>6125.0</td>\n",
       "      <td>21032.0</td>\n",
       "      <td>2009.0</td>\n",
       "      <td>NaN</td>\n",
       "    </tr>\n",
       "    <tr>\n",
       "      <th>2010</th>\n",
       "      <th>0.89</th>\n",
       "      <td>10.0</td>\n",
       "      <td>6125.0</td>\n",
       "      <td>21032.0</td>\n",
       "      <td>2010.0</td>\n",
       "      <td>NaN</td>\n",
       "    </tr>\n",
       "    <tr>\n",
       "      <th>2011</th>\n",
       "      <th>0.94</th>\n",
       "      <td>10.0</td>\n",
       "      <td>6125.0</td>\n",
       "      <td>21032.0</td>\n",
       "      <td>2011.0</td>\n",
       "      <td>NaN</td>\n",
       "    </tr>\n",
       "    <tr>\n",
       "      <th>2012</th>\n",
       "      <th>1.00</th>\n",
       "      <td>10.0</td>\n",
       "      <td>6125.0</td>\n",
       "      <td>21032.0</td>\n",
       "      <td>2012.0</td>\n",
       "      <td>NaN</td>\n",
       "    </tr>\n",
       "    <tr>\n",
       "      <th>2013</th>\n",
       "      <th>1.03</th>\n",
       "      <td>10.0</td>\n",
       "      <td>6125.0</td>\n",
       "      <td>21032.0</td>\n",
       "      <td>2013.0</td>\n",
       "      <td>NaN</td>\n",
       "    </tr>\n",
       "    <tr>\n",
       "      <th>2014</th>\n",
       "      <th>1.03</th>\n",
       "      <td>10.0</td>\n",
       "      <td>6125.0</td>\n",
       "      <td>21032.0</td>\n",
       "      <td>2014.0</td>\n",
       "      <td>NaN</td>\n",
       "    </tr>\n",
       "    <tr>\n",
       "      <th>2015</th>\n",
       "      <th>0.88</th>\n",
       "      <td>10.0</td>\n",
       "      <td>6125.0</td>\n",
       "      <td>21032.0</td>\n",
       "      <td>2015.0</td>\n",
       "      <td>NaN</td>\n",
       "    </tr>\n",
       "    <tr>\n",
       "      <th>2016</th>\n",
       "      <th>1.05</th>\n",
       "      <td>10.0</td>\n",
       "      <td>6125.0</td>\n",
       "      <td>21032.0</td>\n",
       "      <td>2016.0</td>\n",
       "      <td>NaN</td>\n",
       "    </tr>\n",
       "    <tr>\n",
       "      <th>2017</th>\n",
       "      <th>0.89</th>\n",
       "      <td>10.0</td>\n",
       "      <td>6125.0</td>\n",
       "      <td>21032.0</td>\n",
       "      <td>2017.0</td>\n",
       "      <td>NaN</td>\n",
       "    </tr>\n",
       "    <tr>\n",
       "      <th>2018</th>\n",
       "      <th>1.00</th>\n",
       "      <td>10.0</td>\n",
       "      <td>6125.0</td>\n",
       "      <td>21032.0</td>\n",
       "      <td>2018.0</td>\n",
       "      <td>NaN</td>\n",
       "    </tr>\n",
       "    <tr>\n",
       "      <th>2019</th>\n",
       "      <th>1.09</th>\n",
       "      <td>10.0</td>\n",
       "      <td>6125.0</td>\n",
       "      <td>21032.0</td>\n",
       "      <td>2019.0</td>\n",
       "      <td>NaN</td>\n",
       "    </tr>\n",
       "  </tbody>\n",
       "</table>\n",
       "</div>"
      ],
      "text/plain": [
       "            Area Code  Element Code  Item Code  Year Code  Note\n",
       "Year Value                                                     \n",
       "2000 1.33        10.0        6125.0    21032.0     2000.0   NaN\n",
       "2002 1.19        10.0        6125.0    21032.0     2002.0   NaN\n",
       "2003 0.88        10.0        6125.0    21032.0     2003.0   NaN\n",
       "2004 0.94        10.0        6125.0    21032.0     2004.0   NaN\n",
       "2005 0.89        10.0        6125.0    21032.0     2005.0   NaN\n",
       "2006 0.94        10.0        6125.0    21032.0     2006.0   NaN\n",
       "2007 0.93        10.0        6125.0    21032.0     2007.0   NaN\n",
       "2008 0.96        10.0        6125.0    21032.0     2008.0   NaN\n",
       "2009 0.86        10.0        6125.0    21032.0     2009.0   NaN\n",
       "2010 0.89        10.0        6125.0    21032.0     2010.0   NaN\n",
       "2011 0.94        10.0        6125.0    21032.0     2011.0   NaN\n",
       "2012 1.00        10.0        6125.0    21032.0     2012.0   NaN\n",
       "2013 1.03        10.0        6125.0    21032.0     2013.0   NaN\n",
       "2014 1.03        10.0        6125.0    21032.0     2014.0   NaN\n",
       "2015 0.88        10.0        6125.0    21032.0     2015.0   NaN\n",
       "2016 1.05        10.0        6125.0    21032.0     2016.0   NaN\n",
       "2017 0.89        10.0        6125.0    21032.0     2017.0   NaN\n",
       "2018 1.00        10.0        6125.0    21032.0     2018.0   NaN\n",
       "2019 1.09        10.0        6125.0    21032.0     2019.0   NaN"
      ]
     },
     "execution_count": 6,
     "metadata": {},
     "output_type": "execute_result"
    }
   ],
   "source": [
    "ausdata.groupby([\"Year\",\"Value\"]).mean()"
   ]
  },
  {
   "cell_type": "code",
   "execution_count": 17,
   "metadata": {},
   "outputs": [
    {
     "data": {
      "text/html": [
       "<div>\n",
       "<style scoped>\n",
       "    .dataframe tbody tr th:only-of-type {\n",
       "        vertical-align: middle;\n",
       "    }\n",
       "\n",
       "    .dataframe tbody tr th {\n",
       "        vertical-align: top;\n",
       "    }\n",
       "\n",
       "    .dataframe thead th {\n",
       "        text-align: right;\n",
       "    }\n",
       "</style>\n",
       "<table border=\"1\" class=\"dataframe\">\n",
       "  <thead>\n",
       "    <tr style=\"text-align: right;\">\n",
       "      <th></th>\n",
       "      <th>Domain Code</th>\n",
       "      <th>Domain</th>\n",
       "      <th>Area Code</th>\n",
       "      <th>Area</th>\n",
       "      <th>Element Code</th>\n",
       "      <th>Element</th>\n",
       "      <th>Item Code</th>\n",
       "      <th>Item</th>\n",
       "      <th>Year Code</th>\n",
       "      <th>Year</th>\n",
       "      <th>Unit</th>\n",
       "      <th>Value</th>\n",
       "      <th>Flag</th>\n",
       "      <th>Flag Description</th>\n",
       "      <th>Note</th>\n",
       "    </tr>\n",
       "  </thead>\n",
       "  <tbody>\n",
       "    <tr>\n",
       "      <th>0</th>\n",
       "      <td>FS</td>\n",
       "      <td>Suite of Food Security Indicators</td>\n",
       "      <td>10</td>\n",
       "      <td>Australia</td>\n",
       "      <td>6125</td>\n",
       "      <td>Value</td>\n",
       "      <td>21032</td>\n",
       "      <td>Political stability and absence of violence/te...</td>\n",
       "      <td>2000</td>\n",
       "      <td>2000</td>\n",
       "      <td>index</td>\n",
       "      <td>1.33</td>\n",
       "      <td>X</td>\n",
       "      <td>International reliable sources</td>\n",
       "      <td>NaN</td>\n",
       "    </tr>\n",
       "    <tr>\n",
       "      <th>1</th>\n",
       "      <td>FS</td>\n",
       "      <td>Suite of Food Security Indicators</td>\n",
       "      <td>10</td>\n",
       "      <td>Australia</td>\n",
       "      <td>6125</td>\n",
       "      <td>Value</td>\n",
       "      <td>21032</td>\n",
       "      <td>Political stability and absence of violence/te...</td>\n",
       "      <td>2002</td>\n",
       "      <td>2002</td>\n",
       "      <td>index</td>\n",
       "      <td>1.19</td>\n",
       "      <td>X</td>\n",
       "      <td>International reliable sources</td>\n",
       "      <td>NaN</td>\n",
       "    </tr>\n",
       "    <tr>\n",
       "      <th>2</th>\n",
       "      <td>FS</td>\n",
       "      <td>Suite of Food Security Indicators</td>\n",
       "      <td>10</td>\n",
       "      <td>Australia</td>\n",
       "      <td>6125</td>\n",
       "      <td>Value</td>\n",
       "      <td>21032</td>\n",
       "      <td>Political stability and absence of violence/te...</td>\n",
       "      <td>2003</td>\n",
       "      <td>2003</td>\n",
       "      <td>index</td>\n",
       "      <td>0.88</td>\n",
       "      <td>X</td>\n",
       "      <td>International reliable sources</td>\n",
       "      <td>NaN</td>\n",
       "    </tr>\n",
       "    <tr>\n",
       "      <th>3</th>\n",
       "      <td>FS</td>\n",
       "      <td>Suite of Food Security Indicators</td>\n",
       "      <td>10</td>\n",
       "      <td>Australia</td>\n",
       "      <td>6125</td>\n",
       "      <td>Value</td>\n",
       "      <td>21032</td>\n",
       "      <td>Political stability and absence of violence/te...</td>\n",
       "      <td>2004</td>\n",
       "      <td>2004</td>\n",
       "      <td>index</td>\n",
       "      <td>0.94</td>\n",
       "      <td>X</td>\n",
       "      <td>International reliable sources</td>\n",
       "      <td>NaN</td>\n",
       "    </tr>\n",
       "    <tr>\n",
       "      <th>4</th>\n",
       "      <td>FS</td>\n",
       "      <td>Suite of Food Security Indicators</td>\n",
       "      <td>10</td>\n",
       "      <td>Australia</td>\n",
       "      <td>6125</td>\n",
       "      <td>Value</td>\n",
       "      <td>21032</td>\n",
       "      <td>Political stability and absence of violence/te...</td>\n",
       "      <td>2005</td>\n",
       "      <td>2005</td>\n",
       "      <td>index</td>\n",
       "      <td>0.89</td>\n",
       "      <td>X</td>\n",
       "      <td>International reliable sources</td>\n",
       "      <td>NaN</td>\n",
       "    </tr>\n",
       "    <tr>\n",
       "      <th>5</th>\n",
       "      <td>FS</td>\n",
       "      <td>Suite of Food Security Indicators</td>\n",
       "      <td>10</td>\n",
       "      <td>Australia</td>\n",
       "      <td>6125</td>\n",
       "      <td>Value</td>\n",
       "      <td>21032</td>\n",
       "      <td>Political stability and absence of violence/te...</td>\n",
       "      <td>2006</td>\n",
       "      <td>2006</td>\n",
       "      <td>index</td>\n",
       "      <td>0.94</td>\n",
       "      <td>X</td>\n",
       "      <td>International reliable sources</td>\n",
       "      <td>NaN</td>\n",
       "    </tr>\n",
       "    <tr>\n",
       "      <th>6</th>\n",
       "      <td>FS</td>\n",
       "      <td>Suite of Food Security Indicators</td>\n",
       "      <td>10</td>\n",
       "      <td>Australia</td>\n",
       "      <td>6125</td>\n",
       "      <td>Value</td>\n",
       "      <td>21032</td>\n",
       "      <td>Political stability and absence of violence/te...</td>\n",
       "      <td>2007</td>\n",
       "      <td>2007</td>\n",
       "      <td>index</td>\n",
       "      <td>0.93</td>\n",
       "      <td>X</td>\n",
       "      <td>International reliable sources</td>\n",
       "      <td>NaN</td>\n",
       "    </tr>\n",
       "    <tr>\n",
       "      <th>7</th>\n",
       "      <td>FS</td>\n",
       "      <td>Suite of Food Security Indicators</td>\n",
       "      <td>10</td>\n",
       "      <td>Australia</td>\n",
       "      <td>6125</td>\n",
       "      <td>Value</td>\n",
       "      <td>21032</td>\n",
       "      <td>Political stability and absence of violence/te...</td>\n",
       "      <td>2008</td>\n",
       "      <td>2008</td>\n",
       "      <td>index</td>\n",
       "      <td>0.96</td>\n",
       "      <td>X</td>\n",
       "      <td>International reliable sources</td>\n",
       "      <td>NaN</td>\n",
       "    </tr>\n",
       "    <tr>\n",
       "      <th>8</th>\n",
       "      <td>FS</td>\n",
       "      <td>Suite of Food Security Indicators</td>\n",
       "      <td>10</td>\n",
       "      <td>Australia</td>\n",
       "      <td>6125</td>\n",
       "      <td>Value</td>\n",
       "      <td>21032</td>\n",
       "      <td>Political stability and absence of violence/te...</td>\n",
       "      <td>2009</td>\n",
       "      <td>2009</td>\n",
       "      <td>index</td>\n",
       "      <td>0.86</td>\n",
       "      <td>X</td>\n",
       "      <td>International reliable sources</td>\n",
       "      <td>NaN</td>\n",
       "    </tr>\n",
       "    <tr>\n",
       "      <th>9</th>\n",
       "      <td>FS</td>\n",
       "      <td>Suite of Food Security Indicators</td>\n",
       "      <td>10</td>\n",
       "      <td>Australia</td>\n",
       "      <td>6125</td>\n",
       "      <td>Value</td>\n",
       "      <td>21032</td>\n",
       "      <td>Political stability and absence of violence/te...</td>\n",
       "      <td>2010</td>\n",
       "      <td>2010</td>\n",
       "      <td>index</td>\n",
       "      <td>0.89</td>\n",
       "      <td>X</td>\n",
       "      <td>International reliable sources</td>\n",
       "      <td>NaN</td>\n",
       "    </tr>\n",
       "    <tr>\n",
       "      <th>10</th>\n",
       "      <td>FS</td>\n",
       "      <td>Suite of Food Security Indicators</td>\n",
       "      <td>10</td>\n",
       "      <td>Australia</td>\n",
       "      <td>6125</td>\n",
       "      <td>Value</td>\n",
       "      <td>21032</td>\n",
       "      <td>Political stability and absence of violence/te...</td>\n",
       "      <td>2011</td>\n",
       "      <td>2011</td>\n",
       "      <td>index</td>\n",
       "      <td>0.94</td>\n",
       "      <td>X</td>\n",
       "      <td>International reliable sources</td>\n",
       "      <td>NaN</td>\n",
       "    </tr>\n",
       "    <tr>\n",
       "      <th>11</th>\n",
       "      <td>FS</td>\n",
       "      <td>Suite of Food Security Indicators</td>\n",
       "      <td>10</td>\n",
       "      <td>Australia</td>\n",
       "      <td>6125</td>\n",
       "      <td>Value</td>\n",
       "      <td>21032</td>\n",
       "      <td>Political stability and absence of violence/te...</td>\n",
       "      <td>2012</td>\n",
       "      <td>2012</td>\n",
       "      <td>index</td>\n",
       "      <td>1.00</td>\n",
       "      <td>X</td>\n",
       "      <td>International reliable sources</td>\n",
       "      <td>NaN</td>\n",
       "    </tr>\n",
       "    <tr>\n",
       "      <th>12</th>\n",
       "      <td>FS</td>\n",
       "      <td>Suite of Food Security Indicators</td>\n",
       "      <td>10</td>\n",
       "      <td>Australia</td>\n",
       "      <td>6125</td>\n",
       "      <td>Value</td>\n",
       "      <td>21032</td>\n",
       "      <td>Political stability and absence of violence/te...</td>\n",
       "      <td>2013</td>\n",
       "      <td>2013</td>\n",
       "      <td>index</td>\n",
       "      <td>1.03</td>\n",
       "      <td>X</td>\n",
       "      <td>International reliable sources</td>\n",
       "      <td>NaN</td>\n",
       "    </tr>\n",
       "    <tr>\n",
       "      <th>13</th>\n",
       "      <td>FS</td>\n",
       "      <td>Suite of Food Security Indicators</td>\n",
       "      <td>10</td>\n",
       "      <td>Australia</td>\n",
       "      <td>6125</td>\n",
       "      <td>Value</td>\n",
       "      <td>21032</td>\n",
       "      <td>Political stability and absence of violence/te...</td>\n",
       "      <td>2014</td>\n",
       "      <td>2014</td>\n",
       "      <td>index</td>\n",
       "      <td>1.03</td>\n",
       "      <td>X</td>\n",
       "      <td>International reliable sources</td>\n",
       "      <td>NaN</td>\n",
       "    </tr>\n",
       "    <tr>\n",
       "      <th>14</th>\n",
       "      <td>FS</td>\n",
       "      <td>Suite of Food Security Indicators</td>\n",
       "      <td>10</td>\n",
       "      <td>Australia</td>\n",
       "      <td>6125</td>\n",
       "      <td>Value</td>\n",
       "      <td>21032</td>\n",
       "      <td>Political stability and absence of violence/te...</td>\n",
       "      <td>2015</td>\n",
       "      <td>2015</td>\n",
       "      <td>index</td>\n",
       "      <td>0.88</td>\n",
       "      <td>X</td>\n",
       "      <td>International reliable sources</td>\n",
       "      <td>NaN</td>\n",
       "    </tr>\n",
       "    <tr>\n",
       "      <th>15</th>\n",
       "      <td>FS</td>\n",
       "      <td>Suite of Food Security Indicators</td>\n",
       "      <td>10</td>\n",
       "      <td>Australia</td>\n",
       "      <td>6125</td>\n",
       "      <td>Value</td>\n",
       "      <td>21032</td>\n",
       "      <td>Political stability and absence of violence/te...</td>\n",
       "      <td>2016</td>\n",
       "      <td>2016</td>\n",
       "      <td>index</td>\n",
       "      <td>1.05</td>\n",
       "      <td>X</td>\n",
       "      <td>International reliable sources</td>\n",
       "      <td>NaN</td>\n",
       "    </tr>\n",
       "    <tr>\n",
       "      <th>16</th>\n",
       "      <td>FS</td>\n",
       "      <td>Suite of Food Security Indicators</td>\n",
       "      <td>10</td>\n",
       "      <td>Australia</td>\n",
       "      <td>6125</td>\n",
       "      <td>Value</td>\n",
       "      <td>21032</td>\n",
       "      <td>Political stability and absence of violence/te...</td>\n",
       "      <td>2017</td>\n",
       "      <td>2017</td>\n",
       "      <td>index</td>\n",
       "      <td>0.89</td>\n",
       "      <td>X</td>\n",
       "      <td>International reliable sources</td>\n",
       "      <td>NaN</td>\n",
       "    </tr>\n",
       "    <tr>\n",
       "      <th>17</th>\n",
       "      <td>FS</td>\n",
       "      <td>Suite of Food Security Indicators</td>\n",
       "      <td>10</td>\n",
       "      <td>Australia</td>\n",
       "      <td>6125</td>\n",
       "      <td>Value</td>\n",
       "      <td>21032</td>\n",
       "      <td>Political stability and absence of violence/te...</td>\n",
       "      <td>2018</td>\n",
       "      <td>2018</td>\n",
       "      <td>index</td>\n",
       "      <td>1.00</td>\n",
       "      <td>X</td>\n",
       "      <td>International reliable sources</td>\n",
       "      <td>NaN</td>\n",
       "    </tr>\n",
       "    <tr>\n",
       "      <th>18</th>\n",
       "      <td>FS</td>\n",
       "      <td>Suite of Food Security Indicators</td>\n",
       "      <td>10</td>\n",
       "      <td>Australia</td>\n",
       "      <td>6125</td>\n",
       "      <td>Value</td>\n",
       "      <td>21032</td>\n",
       "      <td>Political stability and absence of violence/te...</td>\n",
       "      <td>2019</td>\n",
       "      <td>2019</td>\n",
       "      <td>index</td>\n",
       "      <td>1.09</td>\n",
       "      <td>X</td>\n",
       "      <td>International reliable sources</td>\n",
       "      <td>NaN</td>\n",
       "    </tr>\n",
       "  </tbody>\n",
       "</table>\n",
       "</div>"
      ],
      "text/plain": [
       "   Domain Code                             Domain  Area Code       Area  \\\n",
       "0           FS  Suite of Food Security Indicators         10  Australia   \n",
       "1           FS  Suite of Food Security Indicators         10  Australia   \n",
       "2           FS  Suite of Food Security Indicators         10  Australia   \n",
       "3           FS  Suite of Food Security Indicators         10  Australia   \n",
       "4           FS  Suite of Food Security Indicators         10  Australia   \n",
       "5           FS  Suite of Food Security Indicators         10  Australia   \n",
       "6           FS  Suite of Food Security Indicators         10  Australia   \n",
       "7           FS  Suite of Food Security Indicators         10  Australia   \n",
       "8           FS  Suite of Food Security Indicators         10  Australia   \n",
       "9           FS  Suite of Food Security Indicators         10  Australia   \n",
       "10          FS  Suite of Food Security Indicators         10  Australia   \n",
       "11          FS  Suite of Food Security Indicators         10  Australia   \n",
       "12          FS  Suite of Food Security Indicators         10  Australia   \n",
       "13          FS  Suite of Food Security Indicators         10  Australia   \n",
       "14          FS  Suite of Food Security Indicators         10  Australia   \n",
       "15          FS  Suite of Food Security Indicators         10  Australia   \n",
       "16          FS  Suite of Food Security Indicators         10  Australia   \n",
       "17          FS  Suite of Food Security Indicators         10  Australia   \n",
       "18          FS  Suite of Food Security Indicators         10  Australia   \n",
       "\n",
       "    Element Code Element  Item Code  \\\n",
       "0           6125   Value      21032   \n",
       "1           6125   Value      21032   \n",
       "2           6125   Value      21032   \n",
       "3           6125   Value      21032   \n",
       "4           6125   Value      21032   \n",
       "5           6125   Value      21032   \n",
       "6           6125   Value      21032   \n",
       "7           6125   Value      21032   \n",
       "8           6125   Value      21032   \n",
       "9           6125   Value      21032   \n",
       "10          6125   Value      21032   \n",
       "11          6125   Value      21032   \n",
       "12          6125   Value      21032   \n",
       "13          6125   Value      21032   \n",
       "14          6125   Value      21032   \n",
       "15          6125   Value      21032   \n",
       "16          6125   Value      21032   \n",
       "17          6125   Value      21032   \n",
       "18          6125   Value      21032   \n",
       "\n",
       "                                                 Item  Year Code  Year   Unit  \\\n",
       "0   Political stability and absence of violence/te...       2000  2000  index   \n",
       "1   Political stability and absence of violence/te...       2002  2002  index   \n",
       "2   Political stability and absence of violence/te...       2003  2003  index   \n",
       "3   Political stability and absence of violence/te...       2004  2004  index   \n",
       "4   Political stability and absence of violence/te...       2005  2005  index   \n",
       "5   Political stability and absence of violence/te...       2006  2006  index   \n",
       "6   Political stability and absence of violence/te...       2007  2007  index   \n",
       "7   Political stability and absence of violence/te...       2008  2008  index   \n",
       "8   Political stability and absence of violence/te...       2009  2009  index   \n",
       "9   Political stability and absence of violence/te...       2010  2010  index   \n",
       "10  Political stability and absence of violence/te...       2011  2011  index   \n",
       "11  Political stability and absence of violence/te...       2012  2012  index   \n",
       "12  Political stability and absence of violence/te...       2013  2013  index   \n",
       "13  Political stability and absence of violence/te...       2014  2014  index   \n",
       "14  Political stability and absence of violence/te...       2015  2015  index   \n",
       "15  Political stability and absence of violence/te...       2016  2016  index   \n",
       "16  Political stability and absence of violence/te...       2017  2017  index   \n",
       "17  Political stability and absence of violence/te...       2018  2018  index   \n",
       "18  Political stability and absence of violence/te...       2019  2019  index   \n",
       "\n",
       "    Value Flag                Flag Description  Note  \n",
       "0    1.33    X  International reliable sources   NaN  \n",
       "1    1.19    X  International reliable sources   NaN  \n",
       "2    0.88    X  International reliable sources   NaN  \n",
       "3    0.94    X  International reliable sources   NaN  \n",
       "4    0.89    X  International reliable sources   NaN  \n",
       "5    0.94    X  International reliable sources   NaN  \n",
       "6    0.93    X  International reliable sources   NaN  \n",
       "7    0.96    X  International reliable sources   NaN  \n",
       "8    0.86    X  International reliable sources   NaN  \n",
       "9    0.89    X  International reliable sources   NaN  \n",
       "10   0.94    X  International reliable sources   NaN  \n",
       "11   1.00    X  International reliable sources   NaN  \n",
       "12   1.03    X  International reliable sources   NaN  \n",
       "13   1.03    X  International reliable sources   NaN  \n",
       "14   0.88    X  International reliable sources   NaN  \n",
       "15   1.05    X  International reliable sources   NaN  \n",
       "16   0.89    X  International reliable sources   NaN  \n",
       "17   1.00    X  International reliable sources   NaN  \n",
       "18   1.09    X  International reliable sources   NaN  "
      ]
     },
     "execution_count": 17,
     "metadata": {},
     "output_type": "execute_result"
    }
   ],
   "source": [
    "ausdata = pd.read_csv(\"FAOSTAT_data_2-28-2022.csv\")\n",
    "ausdata"
   ]
  },
  {
   "cell_type": "code",
   "execution_count": 25,
   "metadata": {},
   "outputs": [
    {
     "data": {
      "image/png": "[encoded data removed]",
      "text/plain": [
       "<Figure size 432x288 with 1 Axes>"
      ]
     },
     "metadata": {},
     "output_type": "display_data"
    },
    {
     "data": {
      "text/plain": [
       "<Figure size 288x216 with 0 Axes>"
      ]
     },
     "metadata": {},
     "output_type": "display_data"
    }
   ],
   "source": [
    "sns.lineplot(x=\"Year\",y=\"Value\", data=ausdata)\n",
    "plt.title(\"Australia-Political stability and absence of violence(index)\")\n",
    "sns.set_style(style=None, rc =None)\n",
    "sns.set_style(\"darkgrid\")\n",
    "plt.figure(figsize=(4,3))\n",
    "plt.show()\n"
   ]
  },
  {
   "cell_type": "code",
   "execution_count": 29,
   "metadata": {},
   "outputs": [
    {
     "data": {
      "text/plain": [
       "Text(0.5, 1.0, 'Australia-Political stability and absence of violence(index)')"
      ]
     },
     "execution_count": 29,
     "metadata": {},
     "output_type": "execute_result"
    },
    {
     "data": {
      "image/png": "[encoded data removed]",
      "text/plain": [
       "<Figure size 432x288 with 1 Axes>"
      ]
     },
     "metadata": {},
     "output_type": "display_data"
    }
   ],
   "source": [
    "# Plot the responses for different events and regions\n",
    "sns.set_theme(style=\"darkgrid\")\n",
    "sns.lineplot(x=\"Year\", y=\"Value\",\n",
    "             hue=\"Area\",\n",
    "             data=ausdata)\n",
    "plt.title(\"Australia-Political stability and absence of violence(index)\")             "
   ]
  },
  {
   "cell_type": "code",
   "execution_count": 1,
   "metadata": {},
   "outputs": [
    {
     "data": {
      "application/vnd.plotly.v1+json": {
       "config": {
        "plotlyServerURL": "https://plot.ly"
       },
       "data": [
        {
         "hovertemplate": "Year=%{x}<br>Value=%{y}<extra></extra>",
         "legendgroup": "",
         "line": {
          "color": "#636efa",
          "dash": "solid"
         },
         "marker": {
          "symbol": "circle"
         },
         "mode": "lines",
         "name": "",
         "orientation": "v",
         "showlegend": false,
         "type": "scatter",
         "x": [
          2000,
          2002,
          2003,
          2004,
          2005,
          2006,
          2007,
          2008,
          2009,
          2010,
          2011,
          2012,
          2013,
          2014,
          2015,
          2016,
          2017,
          2018,
          2019
         ],
         "xaxis": "x",
         "y": [
          1.33,
          1.19,
          0.88,
          0.94,
          0.89,
          0.94,
          0.93,
          0.96,
          0.86,
          0.89,
          0.94,
          1,
          1.03,
          1.03,
          0.88,
          1.05,
          0.89,
          1,
          1.09
         ],
         "yaxis": "y"
        }
       ],
       "layout": {
        "legend": {
         "tracegroupgap": 0
        },
        "template": {
         "data": {
          "bar": [
           {
            "error_x": {
             "color": "#2a3f5f"
            },
            "error_y": {
             "color": "#2a3f5f"
            },
            "marker": {
             "line": {
              "color": "#E5ECF6",
              "width": 0.5
             },
             "pattern": {
              "fillmode": "overlay",
              "size": 10,
              "solidity": 0.2
             }
            },
            "type": "bar"
           }
          ],
          "barpolar": [
           {
            "marker": {
             "line": {
              "color": "#E5ECF6",
              "width": 0.5
             },
             "pattern": {
              "fillmode": "overlay",
              "size": 10,
              "solidity": 0.2
             }
            },
            "type": "barpolar"
           }
          ],
          "carpet": [
           {
            "aaxis": {
             "endlinecolor": "#2a3f5f",
             "gridcolor": "white",
             "linecolor": "white",
             "minorgridcolor": "white",
             "startlinecolor": "#2a3f5f"
            },
            "baxis": {
             "endlinecolor": "#2a3f5f",
             "gridcolor": "white",
             "linecolor": "white",
             "minorgridcolor": "white",
             "startlinecolor": "#2a3f5f"
            },
            "type": "carpet"
           }
          ],
          "choropleth": [
           {
            "colorbar": {
             "outlinewidth": 0,
             "ticks": ""
            },
            "type": "choropleth"
           }
          ],
          "contour": [
           {
            "colorbar": {
             "outlinewidth": 0,
             "ticks": ""
            },
            "colorscale": [
             [
              0,
              "#0d0887"
             ],
             [
              0.1111111111111111,
              "#46039f"
             ],
             [
              0.2222222222222222,
              "#7201a8"
             ],
             [
              0.3333333333333333,
              "#9c179e"
             ],
             [
              0.4444444444444444,
              "#bd3786"
             ],
             [
              0.5555555555555556,
              "#d8576b"
             ],
             [
              0.6666666666666666,
              "#ed7953"
             ],
             [
              0.7777777777777778,
              "#fb9f3a"
             ],
             [
              0.8888888888888888,
              "#fdca26"
             ],
             [
              1,
              "#f0f921"
             ]
            ],
            "type": "contour"
           }
          ],
          "contourcarpet": [
           {
            "colorbar": {
             "outlinewidth": 0,
             "ticks": ""
            },
            "type": "contourcarpet"
           }
          ],
          "heatmap": [
           {
            "colorbar": {
             "outlinewidth": 0,
             "ticks": ""
            },
            "colorscale": [
             [
              0,
              "#0d0887"
             ],
             [
              0.1111111111111111,
              "#46039f"
             ],
             [
              0.2222222222222222,
              "#7201a8"
             ],
             [
              0.3333333333333333,
              "#9c179e"
             ],
             [
              0.4444444444444444,
              "#bd3786"
             ],
             [
              0.5555555555555556,
              "#d8576b"
             ],
             [
              0.6666666666666666,
              "#ed7953"
             ],
             [
              0.7777777777777778,
              "#fb9f3a"
             ],
             [
              0.8888888888888888,
              "#fdca26"
             ],
             [
              1,
              "#f0f921"
             ]
            ],
            "type": "heatmap"
           }
          ],
          "heatmapgl": [
           {
            "colorbar": {
             "outlinewidth": 0,
             "ticks": ""
            },
            "colorscale": [
             [
              0,
              "#0d0887"
             ],
             [
              0.1111111111111111,
              "#46039f"
             ],
             [
              0.2222222222222222,
              "#7201a8"
             ],
             [
              0.3333333333333333,
              "#9c179e"
             ],
             [
              0.4444444444444444,
              "#bd3786"
             ],
             [
              0.5555555555555556,
              "#d8576b"
             ],
             [
              0.6666666666666666,
              "#ed7953"
             ],
             [
              0.7777777777777778,
              "#fb9f3a"
             ],
             [
              0.8888888888888888,
              "#fdca26"
             ],
             [
              1,
              "#f0f921"
             ]
            ],
            "type": "heatmapgl"
           }
          ],
          "histogram": [
           {
            "marker": {
             "pattern": {
              "fillmode": "overlay",
              "size": 10,
              "solidity": 0.2
             }
            },
            "type": "histogram"
           }
          ],
          "histogram2d": [
           {
            "colorbar": {
             "outlinewidth": 0,
             "ticks": ""
            },
            "colorscale": [
             [
              0,
              "#0d0887"
             ],
             [
              0.1111111111111111,
              "#46039f"
             ],
             [
              0.2222222222222222,
              "#7201a8"
             ],
             [
              0.3333333333333333,
              "#9c179e"
             ],
             [
              0.4444444444444444,
              "#bd3786"
             ],
             [
              0.5555555555555556,
              "#d8576b"
             ],
             [
              0.6666666666666666,
              "#ed7953"
             ],
             [
              0.7777777777777778,
              "#fb9f3a"
             ],
             [
              0.8888888888888888,
              "#fdca26"
             ],
             [
              1,
              "#f0f921"
             ]
            ],
            "type": "histogram2d"
           }
          ],
          "histogram2dcontour": [
           {
            "colorbar": {
             "outlinewidth": 0,
             "ticks": ""
            },
            "colorscale": [
             [
              0,
              "#0d0887"
             ],
             [
              0.1111111111111111,
              "#46039f"
             ],
             [
              0.2222222222222222,
              "#7201a8"
             ],
             [
              0.3333333333333333,
              "#9c179e"
             ],
             [
              0.4444444444444444,
              "#bd3786"
             ],
             [
              0.5555555555555556,
              "#d8576b"
             ],
             [
              0.6666666666666666,
              "#ed7953"
             ],
             [
              0.7777777777777778,
              "#fb9f3a"
             ],
             [
              0.8888888888888888,
              "#fdca26"
             ],
             [
              1,
              "#f0f921"
             ]
            ],
            "type": "histogram2dcontour"
           }
          ],
          "mesh3d": [
           {
            "colorbar": {
             "outlinewidth": 0,
             "ticks": ""
            },
            "type": "mesh3d"
           }
          ],
          "parcoords": [
           {
            "line": {
             "colorbar": {
              "outlinewidth": 0,
              "ticks": ""
             }
            },
            "type": "parcoords"
           }
          ],
          "pie": [
           {
            "automargin": true,
            "type": "pie"
           }
          ],
          "scatter": [
           {
            "marker": {
             "colorbar": {
              "outlinewidth": 0,
              "ticks": ""
             }
            },
            "type": "scatter"
           }
          ],
          "scatter3d": [
           {
            "line": {
             "colorbar": {
              "outlinewidth": 0,
              "ticks": ""
             }
            },
            "marker": {
             "colorbar": {
              "outlinewidth": 0,
              "ticks": ""
             }
            },
            "type": "scatter3d"
           }
          ],
          "scattercarpet": [
           {
            "marker": {
             "colorbar": {
              "outlinewidth": 0,
              "ticks": ""
             }
            },
            "type": "scattercarpet"
           }
          ],
          "scattergeo": [
           {
            "marker": {
             "colorbar": {
              "outlinewidth": 0,
              "ticks": ""
             }
            },
            "type": "scattergeo"
           }
          ],
          "scattergl": [
           {
            "marker": {
             "colorbar": {
              "outlinewidth": 0,
              "ticks": ""
             }
            },
            "type": "scattergl"
           }
          ],
          "scattermapbox": [
           {
            "marker": {
             "colorbar": {
              "outlinewidth": 0,
              "ticks": ""
             }
            },
            "type": "scattermapbox"
           }
          ],
          "scatterpolar": [
           {
            "marker": {
             "colorbar": {
              "outlinewidth": 0,
              "ticks": ""
             }
            },
            "type": "scatterpolar"
           }
          ],
          "scatterpolargl": [
           {
            "marker": {
             "colorbar": {
              "outlinewidth": 0,
              "ticks": ""
             }
            },
            "type": "scatterpolargl"
           }
          ],
          "scatterternary": [
           {
            "marker": {
             "colorbar": {
              "outlinewidth": 0,
              "ticks": ""
             }
            },
            "type": "scatterternary"
           }
          ],
          "surface": [
           {
            "colorbar": {
             "outlinewidth": 0,
             "ticks": ""
            },
            "colorscale": [
             [
              0,
              "#0d0887"
             ],
             [
              0.1111111111111111,
              "#46039f"
             ],
             [
              0.2222222222222222,
              "#7201a8"
             ],
             [
              0.3333333333333333,
              "#9c179e"
             ],
             [
              0.4444444444444444,
              "#bd3786"
             ],
             [
              0.5555555555555556,
              "#d8576b"
             ],
             [
              0.6666666666666666,
              "#ed7953"
             ],
             [
              0.7777777777777778,
              "#fb9f3a"
             ],
             [
              0.8888888888888888,
              "#fdca26"
             ],
             [
              1,
              "#f0f921"
             ]
            ],
            "type": "surface"
           }
          ],
          "table": [
           {
            "cells": {
             "fill": {
              "color": "#EBF0F8"
             },
             "line": {
              "color": "white"
             }
            },
            "header": {
             "fill": {
              "color": "#C8D4E3"
             },
             "line": {
              "color": "white"
             }
            },
            "type": "table"
           }
          ]
         },
         "layout": {
          "annotationdefaults": {
           "arrowcolor": "#2a3f5f",
           "arrowhead": 0,
           "arrowwidth": 1
          },
          "autotypenumbers": "strict",
          "coloraxis": {
           "colorbar": {
            "outlinewidth": 0,
            "ticks": ""
           }
          },
          "colorscale": {
           "diverging": [
            [
             0,
             "#8e0152"
            ],
            [
             0.1,
             "#c51b7d"
            ],
            [
             0.2,
             "#de77ae"
            ],
            [
             0.3,
             "#f1b6da"
            ],
            [
             0.4,
             "#fde0ef"
            ],
            [
             0.5,
             "#f7f7f7"
            ],
            [
             0.6,
             "#e6f5d0"
            ],
            [
             0.7,
             "#b8e186"
            ],
            [
             0.8,
             "#7fbc41"
            ],
            [
             0.9,
             "#4d9221"
            ],
            [
             1,
             "#276419"
            ]
           ],
           "sequential": [
            [
             0,
             "#0d0887"
            ],
            [
             0.1111111111111111,
             "#46039f"
            ],
            [
             0.2222222222222222,
             "#7201a8"
            ],
            [
             0.3333333333333333,
             "#9c179e"
            ],
            [
             0.4444444444444444,
             "#bd3786"
            ],
            [
             0.5555555555555556,
             "#d8576b"
            ],
            [
             0.6666666666666666,
             "#ed7953"
            ],
            [
             0.7777777777777778,
             "#fb9f3a"
            ],
            [
             0.8888888888888888,
             "#fdca26"
            ],
            [
             1,
             "#f0f921"
            ]
           ],
           "sequentialminus": [
            [
             0,
             "#0d0887"
            ],
            [
             0.1111111111111111,
             "#46039f"
            ],
            [
             0.2222222222222222,
             "#7201a8"
            ],
            [
             0.3333333333333333,
             "#9c179e"
            ],
            [
             0.4444444444444444,
             "#bd3786"
            ],
            [
             0.5555555555555556,
             "#d8576b"
            ],
            [
             0.6666666666666666,
             "#ed7953"
            ],
            [
             0.7777777777777778,
             "#fb9f3a"
            ],
            [
             0.8888888888888888,
             "#fdca26"
            ],
            [
             1,
             "#f0f921"
            ]
           ]
          },
          "colorway": [
           "#636efa",
           "#EF553B",
           "#00cc96",
           "#ab63fa",
           "#FFA15A",
           "#19d3f3",
           "#FF6692",
           "#B6E880",
           "#FF97FF",
           "#FECB52"
          ],
          "font": {
           "color": "#2a3f5f"
          },
          "geo": {
           "bgcolor": "white",
           "lakecolor": "white",
           "landcolor": "#E5ECF6",
           "showlakes": true,
           "showland": true,
           "subunitcolor": "white"
          },
          "hoverlabel": {
           "align": "left"
          },
          "hovermode": "closest",
          "mapbox": {
           "style": "light"
          },
          "paper_bgcolor": "white",
          "plot_bgcolor": "#E5ECF6",
          "polar": {
           "angularaxis": {
            "gridcolor": "white",
            "linecolor": "white",
            "ticks": ""
           },
           "bgcolor": "#E5ECF6",
           "radialaxis": {
            "gridcolor": "white",
            "linecolor": "white",
            "ticks": ""
           }
          },
          "scene": {
           "xaxis": {
            "backgroundcolor": "#E5ECF6",
            "gridcolor": "white",
            "gridwidth": 2,
            "linecolor": "white",
            "showbackground": true,
            "ticks": "",
            "zerolinecolor": "white"
           },
           "yaxis": {
            "backgroundcolor": "#E5ECF6",
            "gridcolor": "white",
            "gridwidth": 2,
            "linecolor": "white",
            "showbackground": true,
            "ticks": "",
            "zerolinecolor": "white"
           },
           "zaxis": {
            "backgroundcolor": "#E5ECF6",
            "gridcolor": "white",
            "gridwidth": 2,
            "linecolor": "white",
            "showbackground": true,
            "ticks": "",
            "zerolinecolor": "white"
           }
          },
          "shapedefaults": {
           "line": {
            "color": "#2a3f5f"
           }
          },
          "ternary": {
           "aaxis": {
            "gridcolor": "white",
            "linecolor": "white",
            "ticks": ""
           },
           "baxis": {
            "gridcolor": "white",
            "linecolor": "white",
            "ticks": ""
           },
           "bgcolor": "#E5ECF6",
           "caxis": {
            "gridcolor": "white",
            "linecolor": "white",
            "ticks": ""
           }
          },
          "title": {
           "x": 0.05
          },
          "xaxis": {
           "automargin": true,
           "gridcolor": "white",
           "linecolor": "white",
           "ticks": "",
           "title": {
            "standoff": 15
           },
           "zerolinecolor": "white",
           "zerolinewidth": 2
          },
          "yaxis": {
           "automargin": true,
           "gridcolor": "white",
           "linecolor": "white",
           "ticks": "",
           "title": {
            "standoff": 15
           },
           "zerolinecolor": "white",
           "zerolinewidth": 2
          }
         }
        },
        "title": {
         "text": "Australia-Political stability and absence of violence(index)"
        },
        "xaxis": {
         "anchor": "y",
         "domain": [
          0,
          1
         ],
         "title": {
          "text": "Year"
         }
        },
        "yaxis": {
         "anchor": "x",
         "domain": [
          0,
          1
         ],
         "title": {
          "text": "Value"
         }
        }
       }
      }
     },
     "metadata": {},
     "output_type": "display_data"
    }
   ],
   "source": [
    "import pandas as pd\n",
    "import plotly.express as px\n",
    "\n",
    "df = pd.read_csv('FAOSTAT_data_2-28-2022.csv')\n",
    "\n",
    "fig = px.line(df, x = 'Year', y = 'Value', title='Australia-Political stability and absence of violence(index)')\n",
    "fig.show()"
   ]
  },
  {
   "cell_type": "code",
   "execution_count": null,
   "metadata": {},
   "outputs": [
    {
     "ename": "",
     "evalue": "",
     "output_type": "error",
     "traceback": [
      "\u001b[1;31mThe kernel failed to start due to the missing module ''encodings''. Consider installing this module. \n",
      "View Jupyter <a href='command:jupyter.viewOutput'>log</a> for further details.\n",
      "<a href='https://aka.ms/kernelFailuresMissingModule'>Learn more</a>"
     ]
    }
   ],
   "source": [
    "import numpy as np\n",
    "import pandas as pd\n",
    "import matplotlib.pyplot as plt\n",
    "import seaborn as sns"
   ]
  },
  {
   "cell_type": "code",
   "execution_count": null,
   "metadata": {},
   "outputs": [],
   "source": []
  },
  {
   "cell_type": "code",
   "execution_count": null,
   "metadata": {},
   "outputs": [],
   "source": []
  }
 ],
 "metadata": {
  "interpreter": {
   "hash": "4e3181de8eb0c5f32f59664f62e4ff8a2131b342fbdff3922439c3957c32e2eb"
  },
  "kernelspec": {
   "display_name": "Python 3.9.7 ('base')",
   "language": "python",
   "name": "python3"
  },
  "language_info": {
   "codemirror_mode": {
    "name": "ipython",
    "version": 3
   },
   "file_extension": ".py",
   "mimetype": "text/x-python",
   "name": "python",
   "nbconvert_exporter": "python",
   "pygments_lexer": "ipython3",
   "version": "3.10.3"
  },
  "orig_nbformat": 4
 },
 "nbformat": 4,
 "nbformat_minor": 2
}
